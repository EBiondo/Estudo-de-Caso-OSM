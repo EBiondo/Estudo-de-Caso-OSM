{
 "cells": [
  {
   "cell_type": "markdown",
   "metadata": {},
   "source": [
    "# Área do Mapa"
   ]
  },
  {
   "cell_type": "markdown",
   "metadata": {},
   "source": [
    "Descrição da área: A área escolhida abrange o território dos municípios de Blumenau, Pomerode, Gaspar,\n",
    "Timbó e Indaial, no estado de Santa Catarina - Brasil.\n",
    "\n",
    "Justifica-se a escolha desta área por ser uma área com a qual tenho certa familiriadade em\n",
    "razão de residir na região, de modo que será viável a análise dos dados com mais propriedade,\n",
    "bem como a extração de dados e informações aproveitando-se desta facilidade.\n",
    "\n",
    "Link e limites da área escolhida: \n",
    "    \n",
    "- Link: https://www.openstreetmap.org/#map=12/-26.8774/-49.2030\n",
    "\n",
    "- Limites: bounds minlat=\"-26.9368000\" minlon=\"-49.2998000\" maxlat=\"-26.8149000\" maxlon=\"-49.0203000\"\n"
   ]
  },
  {
   "cell_type": "markdown",
   "metadata": {},
   "source": [
    "# Visão geral dos dados"
   ]
  },
  {
   "cell_type": "raw",
   "metadata": {},
   "source": [
    "A amostra do mapa contém 51 MB e gerou os arquivos CSV abaixo listados:\n",
    "\n",
    "- nodes: 18 MB\n",
    "- ways: 1.9 MB\n",
    "- nodes_tags: 1.2 MB\n",
    "- way_tags: 4.0 MB\n",
    "- way_nodes: 8.3 MB\n",
    "- banco de dados: 27.4 MB\n",
    "\n",
    "No arquivo foram encontradas as tags abaixo:\n",
    "\n",
    "{'osm': 1,\n",
    " 'note': 1,\n",
    " 'meta': 1,\n",
    " 'bounds': 1,\n",
    " 'node': 207207,\n",
    " 'tag': 154792,\n",
    " 'way': 30893,\n",
    " 'nd': 250875,\n",
    " 'relation': 1711,\n",
    " 'member': 20039}"
   ]
  },
  {
   "cell_type": "markdown",
   "metadata": {},
   "source": [
    "# Problemas e sugestões de melhorias nos dados"
   ]
  },
  {
   "cell_type": "markdown",
   "metadata": {},
   "source": [
    "Inicialmente, buscou-se vasculhar os dados em busca de caracteres problemáticos que pudessem ser objeto de correção ou melhora, com base no código abaixo, extraído da lição sobre limpeza de dados.\n"
   ]
  },
  {
   "cell_type": "raw",
   "metadata": {},
   "source": [
    "O código a seguir tem por fim a identificação da nomes problemáticos utilizados como valor\n",
    "no par chave:valor das tags. O resultado retorna um dicionários com a quantidade de valores com caracteres em letras minúsculas (lower), como carácteres em letras minúsculas com dois pontos (lower_colon), com caracteres problemáticos (problemchars) e com caracteres que não se encaixam em nenuma das opções anteriores (other). Para exemplificar a valores classificados como 'other', criou-se uma lista denominada other_list e foram impressos os cinco primeiros itens da lista.\n",
    " \n",
    "{'lower': 105370, 'lower_colon': 47172, 'problemchars': 0, 'other': 2250}\n",
    "\n",
    "['fuel:octane_87',\n",
    " 'fuel:octane_98',\n",
    " 'fuel:octane_87',\n",
    " 'fuel:octane_95',\n",
    " 'fuel:octane_87']"
   ]
  },
  {
   "cell_type": "markdown",
   "metadata": {},
   "source": [
    "Para se proceder a uma melhor averiguação imprimiram-se os valores resultantes da busca pelos caracteres que não preenchiam os requisitos para enquadrar-se nos resultados lower, lower_colon e problemchars. Mesmo assim não se logrou verificar anomalidas que pudessem ser objeto de correção ou melhoria neste ponto. "
   ]
  },
  {
   "cell_type": "markdown",
   "metadata": {},
   "source": [
    "Também se objetivou localizar nomes de vias que pudessem ser melhorados ou corrigidos pela\n",
    "de clareza ou em razão de abreviações que dificultem sua localização ou que causem confusão \n",
    "pelo uso inadequado para locais diversos na mesma via, por exemplo: Tv em vez de Travessa,\n",
    "tendo sido obtida a saída abaixo."
   ]
  },
  {
   "cell_type": "raw",
   "metadata": {},
   "source": [
    "{'Alameda', 'Avenida', 'Beco', 'Praça', 'BR-470', 'Rua', 'Travessa', 'Via'}"
   ]
  },
  {
   "cell_type": "markdown",
   "metadata": {},
   "source": [
    "A busca pelas denominações de vias retornou os resultados acima, verificando-se que inexistem problemas significativos nos dados. Verificou-se, porém, que no caso da Rodovia BR-470 (rodovia federal que faz parte da malha viária local), as vezes sua identificação é feita\n",
    "apenas pela utilização de sua denominação: 'BR-470', quando deveria ser feita de modo completo, mediante aposição do identificador 'Rodovia', de modo a não gerar disparidade na\n",
    "denominação de uma mesma via."
   ]
  },
  {
   "cell_type": "markdown",
   "metadata": {},
   "source": [
    "A substituição ou acréscimo do identificador Rodovia, assim como em relação a qualquer outro elemento que necessitasse alteração, na forma acima descrita, foi feita através do código (amostra) abaixo, que modificou a tag no arquivo de amostra do mapa."
   ]
  },
  {
   "cell_type": "raw",
   "metadata": {},
   "source": [
    "# UPDATE THIS VARIABLE\n",
    "mapping = {\"BR-470\": \"Rodovia BR-470\"}\n",
    "\n",
    "tree = ET.parse(OSMFILE)\n",
    "\n",
    "def is_street_name(elem):\n",
    "    return (elem.attrib['k'] == \"addr:street\")\n",
    "\n",
    "def update_name(mapping):                  \n",
    "    osm_file = open(OSMFILE, 'r+', encoding='utf-8')\n",
    "    for elem in tree.iter():\n",
    "        if elem.tag == \"node\" or elem.tag == \"way\":\n",
    "            for tag in elem.iter(\"tag\"):\n",
    "                if is_street_name(tag):\n",
    "                    m = street_type_re.search(tag.attrib['v'])\n",
    "                    if m:\n",
    "                        street_type = m.group()\n",
    "                        #print(street_type)\n",
    "                        if street_type in mapping.keys():\n",
    "                            new_st_type = mapping[street_type]\n",
    "                            print(new_st_type)\n",
    "                            old_value = tag.attrib['v']\n",
    "                            print(old_value)\n",
    "                            new_value = old_value.replace(street_type, new_st_type)\n",
    "                            if tag.attrib['v']:\n",
    "                                tag.set('v',new_value)\n",
    "                                print(tag.attrib['v'])\n",
    "                            \n",
    "    tree.write(OSMFILE, encoding='utf-8')            \n",
    "    osm_file.close()\n",
    "\n",
    "update_name(mapping)"
   ]
  },
  {
   "cell_type": "markdown",
   "metadata": {},
   "source": [
    "# Recuperação de dados do Banco de Dados"
   ]
  },
  {
   "cell_type": "markdown",
   "metadata": {},
   "source": [
    "### Cidades recuperadas do Banco de Dados"
   ]
  },
  {
   "cell_type": "raw",
   "metadata": {},
   "source": [
    "Foram localizadas as cidades abaixo na amostra do banco de dados. Como se verá adiante, a busca por CEP recuperou, ainda, mais uma cidade.\n",
    "\n",
    "cursor.execute('''SELECT tags.value, COUNT(*) as count \n",
    "FROM (SELECT * FROM nodes_tags UNION ALL \n",
    "      SELECT * FROM ways_tags) tags\n",
    "WHERE tags.key LIKE 'addr:city'\n",
    "GROUP BY tags.value\n",
    "ORDER BY count DESC;''')\n",
    "\n",
    "('Blumenau', 21)\n",
    "('Indaial', 6)\n",
    "('Timbó', 2)\n",
    "('Pomerode', 1)"
   ]
  },
  {
   "cell_type": "markdown",
   "metadata": {},
   "source": [
    "O código abaixo, por meio de conexão ao banco de dados através do Python, recuperou os quinze usuários com maior número de contribuições para o OpenStreet Map."
   ]
  },
  {
   "cell_type": "raw",
   "metadata": {},
   "source": [
    "cursor.execute('''SELECT user, COUNT(*) as Quantidade FROM nodes GROUP by user ORDER\n",
    "by quantidade DESC LIMIT 5;''')\n",
    "\n",
    "('adrianojbr', 86496)\n",
    "('André Alvarenga', 69749)\n",
    "('sirach', 17098)\n",
    "('Victor 2015', 4257)\n",
    "('MeisterLampe', 3625)"
   ]
  },
  {
   "cell_type": "markdown",
   "metadata": {},
   "source": [
    "### Consulta de usuários únicos"
   ]
  },
  {
   "cell_type": "raw",
   "metadata": {},
   "source": [
    "A fim de ampliar a visão geral dos dados e dos usuários que alimentam o OpenStreetMap, apurou-se que 159 usuários atuaram uma única vez para a formação da amostra.\n",
    "\n",
    "cursor.execute('''SELECT COUNT(DISTINCT(e.uid))          \n",
    "FROM (SELECT uid FROM nodes UNION ALL SELECT uid FROM ways) e;''')\n",
    "\n",
    "- 159"
   ]
  },
  {
   "cell_type": "markdown",
   "metadata": {},
   "source": [
    "### Recuperação de websites do banco de dados"
   ]
  },
  {
   "cell_type": "raw",
   "metadata": {},
   "source": [
    "Pela consulta abaixo, foi possível recuperar a informação constante do banco de dados gerados no SQLITE a partir da amostra do mapa dos endereços de webpages extraídos das tabelas ways_tags e nodes_tags, conforme código abaixo. Através do código é possível obter diversas outras informações, tais como endereços eletrônicos de e-mail, telefones etc.\n",
    "\n",
    "cursor.execute('''SELECT tags.value FROM\n",
    "(SELECT * FROM ways_tags UNION SELECT * FROM nodes_tags) tags WHERE tags.key like '%website'\n",
    "GROUP BY tags.value LIMIT 5;''')\n",
    "\n",
    "('bpsconstrutora.com.br',)\n",
    "('http://5asec.com.br/',)\n",
    "('http://abalone.com.br/',)\n",
    "('http://abcescolademusica.com.br/',)\n",
    "('http://achievelanguages.com.br/',)"
   ]
  },
  {
   "cell_type": "markdown",
   "metadata": {},
   "source": [
    "### Pontos com maior ocorrência no banco de dados"
   ]
  },
  {
   "cell_type": "raw",
   "metadata": {},
   "source": [
    "De acordo com a consulta abaixo, foram localizados os pontos de maior ocorrência no banco de dados. Em que pese, inicialmente, o termo amenity se refira a uma comodidade ou uso do local, como, por exemplo, o seu uso, também são cadastrados com tal lixeiras e outras coisas, o que poderia ser revisto através de orientação das diretivas do OpenStreetMap.\n",
    "\n",
    "cursor.execute ('''SELECT value, COUNT(*) as num FROM nodes_tags WHERE key='amenity' GROUP\n",
    "BY value ORDER BY num DESC LIMIT 10;''')\n",
    "\n",
    "('telephone', 204)\n",
    "('waste_disposal', 136)\n",
    "('fast_food', 110)\n",
    "('restaurant', 104)\n",
    "('bench', 83)\n",
    "('pharmacy', 78)\n",
    "('waste_basket', 61)\n",
    "('clinic', 59)\n",
    "('cafe', 56)\n",
    "('dentist', 50)"
   ]
  },
  {
   "cell_type": "markdown",
   "metadata": {},
   "source": [
    "### Investigação dos CEPs do banco de dados"
   ]
  },
  {
   "cell_type": "raw",
   "metadata": {},
   "source": [
    "CEPs da cidades abrangidas pela amostra do mapa.\n",
    "\n",
    "- Blumenau: 89001-000 a 89079-999\n",
    "- Pomerode: 89107-000 a 89107-999\n",
    "- Indaial:89080-000 a 89089-999\n",
    "- Gaspar: 89110-001 a 89119-999\n",
    "- Timbó: 89120-000 a 89120-999\n",
    "\n",
    "A título de curiosidade, extrai-se da tabela ways_tags número de CEPs constantes da tabela relativamente a cada um dos territórios dos municípios abrangidos pela amostra utilizada.\n",
    "Curiosamente, como se verá abaixo, dos 387 registros da tabela, 356 registros pertencem a CEPs de Blumenau, repartindo-se entre os outros três municípios o restante dos CEPs.\n",
    "\n",
    "Em conclusão, percebe-se que além de não ter ocorrido uma inclusão massiva dos CEPs no banco de dados do OpenStreetMap, na localidade abrangida pela amostra, a maioria esmagadora dos CEPs pertence a uma única localidade, como se observa do código abaixo.\n",
    "\n",
    "Também foi possível verificar a existência de CEPs discrepantes, ou seja, que não correspondem aos CEPs empregados atualmente nos municípios acima mencionados.\n",
    "\n",
    "- Número total de CEPs: 387\n",
    "- Blumenau: 356\n",
    "- Pomerode: 0\n",
    "- Indaial: 0\n",
    "- Gaspar: 1\n",
    "- Timbó: 0\n",
    "- CEPs estranhos: [89130, 89370, 89000]"
   ]
  },
  {
   "cell_type": "raw",
   "metadata": {},
   "source": [
    "Investigou-se o CEP 89370 para fins de identificar se apenas o CEP foi inserido quivocadamente ou se o endereço de outra localidade que não pertencente a área da amostra foi incluído no \n",
    "banco de dados do OpenStreetMap, procedeu-se à extração do id do registro.\n",
    "\n",
    "- 285907761\n",
    "\n",
    "A partir do id do registro da tabela ways_tags obtido, buscou-se descobrir qual a referência do CEP 89370 no mapa amostral e o resultado foi o Presídio Regional de Blumenau, enquanto o\n",
    "CEP em questão pertence ao município de Papanduva, no norte do estado de Santa Catarina e que\n",
    "não limitrofe ao município de Blumenau ou aos outros municípios abrangidos pela amostra, de\n",
    "acordo com o que já apontavam os dados obtidos.\n",
    "\n",
    "Investigando-se o dado acima obtido, verificou-se que o objeto (Presídio Regional) não\n",
    "deveria ter sido incluído como uma tag de way, pois não se trata propriamente de um caminho,\n",
    "mas sim de um local específico, o qual, a meu juízo, deveria ter sido classificado com um \n",
    "node.\n",
    "\n",
    "[('addr:housenumber', '4585'), ('addr:postcode', '89370-240'), ('addr:street', 'Rua General Osório'), ('amenity', 'prison'), ('barrier', 'wall'), ('building', 'yes'), ('contact:email', 'presidioblumenau@deap.sc.gov.br'), ('contact:phone', '+55 47 2102-9357;+55 47 2102-9350;+55 47 2102-9360'), ('name', 'Presídio Regional de Blumenau'), ('operator', 'Departamento de Administração Prisional')]"
   ]
  },
  {
   "cell_type": "markdown",
   "metadata": {},
   "source": [
    "# Conclusão"
   ]
  },
  {
   "cell_type": "raw",
   "metadata": {},
   "source": [
    "Com base nos elemetos acima e nas impressões pessoais durante o trabalho de colega, passo a apresentar alguma sugestões para a melhoria do mapa. Apesar de raros erros nas informações, o fato é que há muito trabalho a ser feito ainda para que se possam extrair dados precisos. Veja-se, por exemplo, em relação ao cadastramento de caminhos (ways) e locais (nodes). Ways são basicamente ruas, estradas, ferrovias etc, e suas tags deveriam conter referências apenas às características destes objetos, mas são encontrados dados como websites, edifícios, telefones, CEPs os quais seriam reservados para a identificação de locais, que podem estar relacionados com os caminhos. Também, relação aos CEPs, percebe-se que faltam muitos dados ainda para que se possa extrair uma informação completa.\n",
    "Assim, mediante cruzamento de dados em poder dos Correios, das Operadoras de telefônia, dos Cartórios de Registro de Imóveis, das Prefeituras e de outros mapas, como o Google Maps, seria factível o aperfeiçoamento da base de dados do OpenStreetMaps, posto que cada uma dessas entidades poderia colaborar com dados de sua base (CEPs, telefones, ruas, nomes de prédios etc). O acesso a tantas de base de dados diversas poderia gerar informações conflitantes, já que os dados podem ser redundantes e algumas bases podem estar desatualizadas, contudo, para tais casos poderia ser formulado mecanismo de desempate ou arbitragem com base em consulta a uma terceira base ou vistorias in loco. Também poderia haver iniciativas para o maior envolvimento da comunidade na formação da base do OpenStreetMap, tal como a inserção na página de consulta o nome dos top ten contribuidores da localidade pesquisada. \n",
    "\n"
   ]
  }
 ],
 "metadata": {
  "kernelspec": {
   "display_name": "Python 3",
   "language": "python",
   "name": "python3"
  },
  "language_info": {
   "codemirror_mode": {
    "name": "ipython",
    "version": 3
   },
   "file_extension": ".py",
   "mimetype": "text/x-python",
   "name": "python",
   "nbconvert_exporter": "python",
   "pygments_lexer": "ipython3",
   "version": "3.6.8"
  }
 },
 "nbformat": 4,
 "nbformat_minor": 2
}
